{
 "cells": [
  {
   "cell_type": "markdown",
   "metadata": {},
   "source": [
    "# Hands-On Optimization in Deep Learning @ MATH+ Summer School\n",
    "Welcome to the Math+ summer school session on optimization in deep learning! In this notebook, we'll explore different optimization algorithms and their impact on training neural networks.\n",
    "\n",
    "In the following, we will cover some of the most popular (first-order) optimization algorithms for training neural networks. We will use the [PyTorch](https://pytorch.org/) framework for this purpose. If you are not familiar with PyTorch, you can find a short introduction [here](https://pytorch.org/tutorials/beginner/deep_learning_60min_blitz.html).\n",
    "\n",
    "We will focus on the following first-order optimization algorithms:\n",
    "- Stochastic Gradient Descent (SGD)\n",
    "- SGD with Momentum\n",
    "- Nesterov Accelerated Gradient (NAG) or SGD with Nesterov Momentum\n",
    "- Adaptive Gradient Algorithm (AdaGrad)\n",
    "- Adaptive Moment Estimation (Adam)\n",
    "\n",
    "# Setup\n",
    "Before we start, we need to import some packages and define some helper functions. We will use the [MNIST dataset](https://en.wikipedia.org/wiki/MNIST_database/) for our experiments. The MNIST dataset consists of 28x28 grayscale images of handwritten digits (0-9) and is a popular benchmark dataset for image classification. We will use the [torchvision](https://pytorch.org/docs/stable/torchvision/index.html) package to download the dataset.\n",
    "\n",
    "1. **Preliminaries:** Install and import packages\n",
    "2. **Data Preprocessing:** Prepare MNIST dataset\n",
    "3. **Model Initialization:** Define Neural Network architecture (Multi-Layer Perceptron)\n",
    "4. **Helper Functions:** Define training and evaluation functions\n",
    "5. **Coding Exercise:** Code your own optimizers like msgd, SGD with Momentum, SGD with Nesterov Momentum, AdaGrad, Adam\n",
    "6. **Train and Test:** Train and evaluate your model with your optimizers\n",
    "6. **Evaluation:** Compare the different optimizers\n"
   ]
  },
  {
   "cell_type": "markdown",
   "metadata": {},
   "source": [
    "# 1) Preliminaries: Installation and Imports"
   ]
  },
  {
   "cell_type": "code",
   "execution_count": 36,
   "metadata": {},
   "outputs": [
    {
     "name": "stdout",
     "output_type": "stream",
     "text": [
      "Requirement already satisfied: numpy in /home/bturan/anaconda3/lib/python3.9/site-packages (1.20.3)\n",
      "Requirement already satisfied: matplotlib in /home/bturan/anaconda3/lib/python3.9/site-packages (3.4.3)\n",
      "Requirement already satisfied: torch in /home/bturan/anaconda3/lib/python3.9/site-packages (1.12.1)\n",
      "Requirement already satisfied: torchvision in /home/bturan/anaconda3/lib/python3.9/site-packages (0.13.1)\n",
      "Requirement already satisfied: cycler>=0.10 in /home/bturan/anaconda3/lib/python3.9/site-packages (from matplotlib) (0.10.0)\n",
      "Requirement already satisfied: kiwisolver>=1.0.1 in /home/bturan/anaconda3/lib/python3.9/site-packages (from matplotlib) (1.3.1)\n",
      "Requirement already satisfied: pillow>=6.2.0 in /home/bturan/anaconda3/lib/python3.9/site-packages (from matplotlib) (8.4.0)\n",
      "Requirement already satisfied: pyparsing>=2.2.1 in /home/bturan/anaconda3/lib/python3.9/site-packages (from matplotlib) (3.0.4)\n",
      "Requirement already satisfied: python-dateutil>=2.7 in /home/bturan/anaconda3/lib/python3.9/site-packages (from matplotlib) (2.8.2)\n",
      "Requirement already satisfied: typing-extensions in /home/bturan/anaconda3/lib/python3.9/site-packages (from torch) (4.7.1)\n",
      "Requirement already satisfied: requests in /home/bturan/anaconda3/lib/python3.9/site-packages (from torchvision) (2.26.0)\n",
      "Requirement already satisfied: six in /home/bturan/anaconda3/lib/python3.9/site-packages (from cycler>=0.10->matplotlib) (1.16.0)\n",
      "Requirement already satisfied: urllib3<1.27,>=1.21.1 in /home/bturan/anaconda3/lib/python3.9/site-packages (from requests->torchvision) (1.26.14)\n",
      "Requirement already satisfied: certifi>=2017.4.17 in /home/bturan/anaconda3/lib/python3.9/site-packages (from requests->torchvision) (2021.10.8)\n",
      "Requirement already satisfied: charset-normalizer~=2.0.0 in /home/bturan/anaconda3/lib/python3.9/site-packages (from requests->torchvision) (2.0.4)\n",
      "Requirement already satisfied: idna<4,>=2.5 in /home/bturan/anaconda3/lib/python3.9/site-packages (from requests->torchvision) (3.2)\n"
     ]
    }
   ],
   "source": [
    "!pip3 install numpy matplotlib torch torchvision"
   ]
  },
  {
   "cell_type": "code",
   "execution_count": 37,
   "metadata": {},
   "outputs": [],
   "source": [
    "# Setup: Import necessary libraries\n",
    "\n",
    "import numpy as np\n",
    "import matplotlib.pyplot as plt\n",
    "import torch\n",
    "import torch.nn as nn\n",
    "import torch.nn.functional as F\n",
    "import torchvision.transforms as transforms\n",
    "from torchvision.datasets import MNIST\n",
    "from torch.utils.data import DataLoader, random_split\n"
   ]
  },
  {
   "cell_type": "markdown",
   "metadata": {},
   "source": [
    "## 2) Data Preprocessing\n",
    "\n",
    "Let's load and preprocess the MNIST dataset. \n",
    "\n",
    "- Normalization is important for convergence rates. We normalize the data to have approximately zero mean and unit variance.\n",
    "- We also convert the labels to one-hot encoded vectors.\n",
    "- Finally, we split the dataset into training and validation sets.\n",
    "- We use the validation set to evaluate the model's performance on unseen data."
   ]
  },
  {
   "cell_type": "code",
   "execution_count": 38,
   "metadata": {},
   "outputs": [
    {
     "name": "stdout",
     "output_type": "stream",
     "text": [
      "Training Samples: 50000\n",
      "Validation Samples: 10000\n",
      "Testing Samples: 10000\n"
     ]
    }
   ],
   "source": [
    "# Set device to GPU if available\n",
    "device = torch.device(\"cuda:0\" if torch.cuda.is_available() else \"cpu\")\n",
    "\n",
    "# Transform data to tensors and normalize\n",
    "transform = transforms.Compose([\n",
    "    transforms.ToTensor(),\n",
    "    transforms.Normalize((0.5,), (0.5,))\n",
    "])\n",
    "\n",
    "# Load the MNIST dataset\n",
    "dataset = MNIST(root='./data', download=True, transform=transform)\n",
    "\n",
    "# Split the dataset into training, validation, and test sets\n",
    "train_set, val_set = random_split(dataset, [50000, 10000])\n",
    "test_set = MNIST(root='./data', train=False, download=True, transform=transform)\n",
    "\n",
    "# Create data loaders\n",
    "train_loader = DataLoader(train_set, batch_size=32, shuffle=True)\n",
    "val_loader = DataLoader(val_set, batch_size=32, shuffle=False)\n",
    "test_loader = DataLoader(test_set, batch_size=32, shuffle=False)\n",
    "\n",
    "print(f\"Training Samples: {len(train_set)}\")\n",
    "print(f\"Validation Samples: {len(val_set)}\")\n",
    "print(f\"Testing Samples: {len(test_set)}\")"
   ]
  },
  {
   "cell_type": "markdown",
   "metadata": {},
   "source": [
    "## 3) Model Initialization\n",
    "\n",
    "Now, let's define a very simple feed-forward neural network to serve as our baseline model. This model consists of a single hidden layer with 128 neurons and a ReLU activation function. The output layer consists of 10 neurons, one for each class, and a softmax activation function."
   ]
  },
  {
   "cell_type": "code",
   "execution_count": 94,
   "metadata": {},
   "outputs": [
    {
     "name": "stdout",
     "output_type": "stream",
     "text": [
      "SimpleNN(\n",
      "  (flatten): Flatten(start_dim=1, end_dim=-1)\n",
      "  (fc1): Linear(in_features=784, out_features=128, bias=True)\n",
      "  (fc2): Linear(in_features=128, out_features=10, bias=True)\n",
      ")\n",
      "Name: fc1.weight, Shape: torch.Size([128, 784])\n",
      "Name: fc1.bias, Shape: torch.Size([128])\n",
      "Name: fc2.weight, Shape: torch.Size([10, 128])\n",
      "Name: fc2.bias, Shape: torch.Size([10])\n",
      "torch.Size([128, 784])\n",
      "torch.Size([128])\n",
      "torch.Size([10, 128])\n",
      "torch.Size([10])\n"
     ]
    }
   ],
   "source": [
    "class SimpleNN(nn.Module):\n",
    "    def __init__(self):\n",
    "        super(SimpleNN, self).__init__()\n",
    "        self.flatten = nn.Flatten()\n",
    "        self.fc1 = nn.Linear(28*28, 128)\n",
    "        self.fc2 = nn.Linear(128, 10)\n",
    "        \n",
    "    def forward(self, x):\n",
    "        x = self.flatten(x)\n",
    "        x = F.relu(self.fc1(x))\n",
    "        x = self.fc2(x)\n",
    "        return x\n",
    "\n",
    "# Create an instance of the model and move it to the device\n",
    "model = SimpleNN().to(device)\n",
    "print(model)\n",
    "\n",
    "# Loop over the parameters\n",
    "for name, param in model.named_parameters():\n",
    "    print(f\"Name: {name}, Shape: {param.shape}\")\n",
    "\n",
    "for param in model.parameters():\n",
    "    print(param.shape)\n"
   ]
  },
  {
   "cell_type": "markdown",
   "metadata": {},
   "source": [
    "## 4) Helper Functions: Training and Evaluation Routines\n",
    "\n",
    "Let's first define our training and evaluation functions, which will be used later for training and evaluating our model. We will use the cross-entropy loss function, which is commonly used for classification problems. "
   ]
  },
  {
   "cell_type": "code",
   "execution_count": 41,
   "metadata": {},
   "outputs": [],
   "source": [
    "# Define the loss and metrics\n",
    "criterion = nn.CrossEntropyLoss()\n",
    "\n",
    "# Define the training function\n",
    "def train_model(model, dataloader, optimizer, criterion, device):\n",
    "    model.train()\n",
    "    running_loss = 0.0\n",
    "    for images, labels in dataloader:\n",
    "        images, labels = images.to(device), labels.to(device)\n",
    "\n",
    "        optimizer.zero_grad()\n",
    "        outputs = model(images)\n",
    "        loss = criterion(outputs, labels)\n",
    "        loss.backward()\n",
    "        optimizer.step()\n",
    "        running_loss += loss.item() * images.size(0)\n",
    "    return running_loss / len(dataloader.dataset)\n",
    "\n",
    "# Define the evaluation function\n",
    "def evaluate_model(model, dataloader, criterion, device):\n",
    "    model.eval()\n",
    "    running_loss = 0.0\n",
    "    correct_predictions = 0\n",
    "    with torch.no_grad():\n",
    "        for images, labels in dataloader:\n",
    "            images, labels = images.to(device), labels.to(device)\n",
    "            outputs = model(images)\n",
    "            _, predicted = torch.max(outputs, 1)\n",
    "            correct_predictions += (predicted == labels).sum().item()\n",
    "            loss = criterion(outputs, labels)\n",
    "            running_loss += loss.item() * images.size(0)\n",
    "    accuracy = correct_predictions / len(dataloader.dataset)\n",
    "    return running_loss / len(dataloader.dataset), accuracy\n"
   ]
  },
  {
   "cell_type": "markdown",
   "metadata": {},
   "source": [
    "# Gradient Descent Optimization Algorithms\n",
    "\n",
    "As stated above, we will focus on the following first-order optimization algorithms:\n",
    "- Stochastic Gradient Descent (SGD)\n",
    "- SGD with Momentum\n",
    "- Nesterov Accelerated Gradient (NAG) or SGD with Nesterov Momentum\n",
    "- Adaptive Gradient Algorithm (AdaGrad)\n",
    "- Adaptive Moment Estimation (Adam)\n",
    "\n",
    "To understand the differences between these algorithms, let's first take a look at the vanilla Batch Gradient Descent algorithm.\n"
   ]
  },
  {
   "cell_type": "markdown",
   "metadata": {},
   "source": [
    "## Batch Gradient Descent\n",
    "\n",
    "Batch Gradient Descent is an iterative optimization algorithm used for minimizing a function. In the context of machine learning, this function is typically a loss function that measures the discrepancy between the predicted values of the model and the actual target values.\n",
    "\n",
    "The basic idea is to update the model's parameters in the opposite direction of the gradient of the loss with respect to those parameters. The magnitude of this update is controlled by a hyperparameter called the learning rate.\n",
    "\n",
    "<div style=\"text-align: center;\">\n",
    "<img src=\"imgs/Gradient_descent.png\" width=\"300\" height=\"300\">\n",
    "        <p>Image Source: https://en.wikipedia.org/wiki/Gradient_descent</p>\n",
    "\n",
    "</div>\n",
    "\n",
    "Mathematically, the update rule for each parameter $ \\theta \\in \\mathbb{R}^n$ is given by\n",
    "$$ \\theta_{t+1} = \\theta_t - \\eta \\nabla_{\\theta} L(\\theta_t) \\, ,$$\n",
    "\n",
    "where\n",
    "- $\\theta$ represents the model parameters.\n",
    "- $ \\eta \\in \\mathbb{R} $ is the learning rate.\n",
    "- $ \\nabla_{\\theta} L(\\theta) \\in \\mathbb{R}^n $ is the gradient of the loss function $L$ with respect to the model parameters.\n",
    "\n",
    "## Stochastic Gradient Descent (SGD)\n",
    "\n",
    "While Batch Gradient Descent uses the entire dataset to compute the gradient, Stochastic Gradient Descent (SGD) updates the parameters using only a single sample at each iteration. This makes SGD much faster and suitable for online learning. However, this results in many more updates with high variance, which can cause the loss to fluctuate heavily.\n",
    "\n",
    "The word 'stochastic' means that the samples are randomly picked (or shuffled) for each iteration. Due to its stochastic nature, the path to the optimal solution may not be smooth as in the case of Gradient Descent, but it can escape shallow local minimums and saddle points, which can be beneficial for non-convex loss functions encountered in deep learning.\n",
    "\n",
    "## Coding Exercise: Mini-Batch Gradient Descent\n",
    "\n",
    "Mini-batch gradient descent is a variation of SGD where instead of a single sample, a mini-batch of samples is used at each iteration. This reduces the variance of the parameter updates, which can lead to more stable convergence. It can also take advantage of parallel computing hardware like GPUs, resulting in further speedup. Generally speaking, the mini-batch version tries to combine the advanteges of both batch gradient descent and SGD. \n",
    "\n",
    "The batch size is a hyperparameter that defines the number of samples to work through before updating the internal model parameters. In deep learning, mini-batches are selected randomly from the training dataset. Although the correct terminology is to call the method \"mini-batch gradient descent\", most people simply call it \"SGD\". Therefore we will use the term SGD in the rest of this notebook.\n",
    "\n",
    "Let's implement MySGD and see how it performs on a simple classification problem."
   ]
  },
  {
   "cell_type": "code",
   "execution_count": 100,
   "metadata": {},
   "outputs": [],
   "source": [
    "class MySGD:\n",
    "    def __init__(self, params, lr):\n",
    "        self.params = list(params) \n",
    "        self.lr = lr \n",
    "\n",
    "    def zero_grad(self):\n",
    "        for p in self.params:\n",
    "            if p.grad is not None:\n",
    "                p.grad.detach_()\n",
    "                p.grad.zero_()\n",
    "\n",
    "    def step(self):\n",
    "        # 1. Loop over all parameters\n",
    "        # 2. Update the parameters with SGD\n",
    "        # Hint: use p.data and p.grad to access the parameter values and the gradient    \n",
    "\n",
    "        for p in self.params:\n",
    "            if p.grad is None:\n",
    "                continue            \n",
    "            p.data = p.data - self.lr * p.grad\n",
    "\n",
    "        # The type of p is : <class 'torch.nn.parameter.Parameter'>\n",
    "        # The type of p.grad is : <class 'torch.Tensor'> (representing the gradient of p)\n",
    "        # The type of p.data is : <class 'torch.Tensor'>  (representing the value of p)\n"
   ]
  },
  {
   "cell_type": "markdown",
   "metadata": {},
   "source": [
    "## Training our Model with MySGD\n",
    "\n",
    "We will now train our model with MySGD on MNIST and evaluate its performance on the validation set. The results are stored in the respective lists and will be used for plotting later."
   ]
  },
  {
   "cell_type": "code",
   "execution_count": 99,
   "metadata": {},
   "outputs": [
    {
     "name": "stdout",
     "output_type": "stream",
     "text": [
      "self.params: torch.Size([128, 784])\n",
      "Epoch 1/20, Training Loss: 0.6160, Validation Loss: 0.3801, Validation Accuracy: 0.8881\n",
      "Epoch 2/20, Training Loss: 0.3285, Validation Loss: 0.3262, Validation Accuracy: 0.9045\n",
      "Epoch 3/20, Training Loss: 0.2863, Validation Loss: 0.2819, Validation Accuracy: 0.9194\n",
      "Epoch 4/20, Training Loss: 0.2562, Validation Loss: 0.2637, Validation Accuracy: 0.9225\n",
      "Epoch 5/20, Training Loss: 0.2297, Validation Loss: 0.2334, Validation Accuracy: 0.9367\n",
      "Epoch 6/20, Training Loss: 0.2082, Validation Loss: 0.2146, Validation Accuracy: 0.9421\n",
      "Epoch 7/20, Training Loss: 0.1894, Validation Loss: 0.2016, Validation Accuracy: 0.9443\n",
      "Epoch 8/20, Training Loss: 0.1736, Validation Loss: 0.1889, Validation Accuracy: 0.9489\n",
      "Epoch 9/20, Training Loss: 0.1598, Validation Loss: 0.1735, Validation Accuracy: 0.9542\n",
      "Epoch 10/20, Training Loss: 0.1476, Validation Loss: 0.1708, Validation Accuracy: 0.9532\n",
      "Epoch 11/20, Training Loss: 0.1368, Validation Loss: 0.1607, Validation Accuracy: 0.9559\n",
      "Epoch 12/20, Training Loss: 0.1278, Validation Loss: 0.1504, Validation Accuracy: 0.9594\n",
      "Epoch 13/20, Training Loss: 0.1191, Validation Loss: 0.1450, Validation Accuracy: 0.9603\n",
      "Epoch 14/20, Training Loss: 0.1122, Validation Loss: 0.1370, Validation Accuracy: 0.9623\n",
      "Epoch 15/20, Training Loss: 0.1057, Validation Loss: 0.1343, Validation Accuracy: 0.9626\n",
      "Epoch 16/20, Training Loss: 0.0999, Validation Loss: 0.1308, Validation Accuracy: 0.9640\n",
      "Epoch 17/20, Training Loss: 0.0947, Validation Loss: 0.1250, Validation Accuracy: 0.9639\n",
      "Epoch 18/20, Training Loss: 0.0899, Validation Loss: 0.1215, Validation Accuracy: 0.9661\n",
      "Epoch 19/20, Training Loss: 0.0852, Validation Loss: 0.1176, Validation Accuracy: 0.9658\n",
      "Epoch 20/20, Training Loss: 0.0817, Validation Loss: 0.1186, Validation Accuracy: 0.9656\n"
     ]
    }
   ],
   "source": [
    "# Set hyperparameters\n",
    "learning_rate = 0.01\n",
    "num_epochs = 20\n",
    "\n",
    "# Initialize model and optimizer\n",
    "model_sgd = SimpleNN().to(device)\n",
    "optimizer_sgd = MySGD(model_sgd.parameters(), lr=learning_rate) # Here we use our own SGD optimizer\n",
    "\n",
    "# Train model\n",
    "train_loss_sgd = []\n",
    "val_loss_sgd = []\n",
    "for epoch in range(num_epochs):\n",
    "    loss = train_model(model_sgd, train_loader, optimizer_sgd, criterion, device)\n",
    "    train_loss_sgd.append(loss)\n",
    "    # Evaluate on validation set\n",
    "    val_loss, val_accuracy = evaluate_model(model_sgd, val_loader, criterion, device)\n",
    "    val_loss_sgd.append(val_loss)\n",
    "    print(f\"Epoch {epoch + 1}/{num_epochs}, Training Loss: {loss:.4f}, Validation Loss: {val_loss:.4f}, Validation Accuracy: {val_accuracy:.4f}\")"
   ]
  },
  {
   "cell_type": "code",
   "execution_count": 102,
   "metadata": {},
   "outputs": [],
   "source": [
    "# NOTE: If you want to use pre-computed results, uncomment the following two lines\n",
    "\n",
    "# train_loss_sgd = [0.6160, 0.3285, 0.2863, 0.2562, 0.2297, 0.2082, 0.1894, 0.1736, 0.1598, 0.1476, 0.1368, 0.1278, 0.1191, 0.1122, 0.1057, 0.0999, 0.0947, 0.0899, 0.0852, 0.0817]\n",
    "# val_loss_sgd = [0.3801, 0.3262, 0.2819, 0.2637, 0.2334, 0.2146, 0.2016, 0.1889, 0.1735, 0.1708, 0.1607, 0.1504, 0.1450, 0.1370, 0.1343, 0.1308, 0.1250, 0.1215, 0.1176, 0.1186]"
   ]
  },
  {
   "cell_type": "markdown",
   "metadata": {},
   "source": [
    "Great! At this point you should have obtained a validation accuracy of >90% with your (mini-batch) SGD implementation. If not, you can try to tune the hyperparameters (learning rate, batch size, number of epochs, etc.) to improve the performance. However the default values should be sufficient to obtain a reasonable accuracy. The initialization of the model parameters is also important for the final performance and is one of the reasons why we obtain different results when running the same code multiple times.\n",
    "\n",
    "Given the simple nature of the MNIST dataset, (mini-batch) SGD is able to find a good solution in a reasonable amount of time. However, for more complex datasets, SGD may take a long time to converge. In the next section, we will look at momentum-based methods that can accelerate the convergence and improve the performance.\n"
   ]
  },
  {
   "cell_type": "markdown",
   "metadata": {},
   "source": [
    "## A Leap Forward with Momentum\n",
    "\n",
    "In the realm of optimization algorithms, _momentum_ is a technique that enhances Stochastic Gradient Descent (SGD) by providing it both speed and direction. The intuition is as follows: A ball with momentum gathers speed in directions where the slope is consistently steep while slowing down when faced with oscillations or noise.\n",
    "\n",
    "<div style=\"text-align: center;\">\n",
    "    <table style=\"margin-left: auto; margin-right: auto;\">\n",
    "        <tr>\n",
    "            <td style=\"text-align: center;\">\n",
    "                <img src=\"imgs/without_momentum.gif\" width=\"250\" height=\"100\" />\n",
    "                <br>\n",
    "                <span>SGD without Momentum</span>\n",
    "            </td>\n",
    "            <td style=\"text-align: center;\">\n",
    "                <img src=\"imgs/with_momentum.gif\" width=\"250\" height=\"100\" />\n",
    "                <br>\n",
    "                <span>SGD with Momentum</span>\n",
    "            </td>\n",
    "        </tr>\n",
    "    </table>\n",
    "        <p>This illustration taken from <a href=\"https://www.ruder.io/optimizing-gradient-descent/\" target=\"_blank\">[1]</a> depicts the key concept of <em>momentum</em>.</p>\n",
    "</div>\n",
    "\n",
    "It does this by adding a fraction $\\gamma \\in \\mathbb{R}$ of the update vector of the past time step to the current update vector:\n",
    "\n",
    "$$ v_{t+1} = \\gamma v_t + \\eta \\nabla_{\\theta} L(\\theta_t) \\, ,$$\n",
    "\n",
    "$$ \\theta_{t+1} = \\theta_t - v_{t+1} \\, ,$$\n",
    "\n",
    "where:\n",
    "- $\\gamma$ is the momentum coefficient, usually set to values like 0.9 or 0.99. It dictates how much of the previous velocity is retained.\n",
    "- $v_t \\in \\mathbb{R}^n$ is the velocity vector at time $t$, initially set to zero.\n",
    "- $\\eta$ is the learning rate, similar to SGD.\n",
    "- $\\nabla_{\\theta} L(\\theta_t) \\in \\mathbb{R}^n$ is the gradient of the loss function $L$ with respect to the model parameters.\n",
    "\n",
    "\n",
    "\\[1]: https://www.ruder.io/optimizing-gradient-descent/\n",
    "\n",
    "## Coding Exercise: SGD with Momentum\n",
    "Now that we understand the theory behind momentum, let's implement it from scratch. Your task is to fill in the missing lines of code to complete the implementation of the MyMomentumSGD class.\n"
   ]
  },
  {
   "cell_type": "code",
   "execution_count": 68,
   "metadata": {},
   "outputs": [],
   "source": [
    "class MyMomentumSGD:\n",
    "    def __init__(self, params, learning_rate=0.01, momentum=0.9):\n",
    "        self.params = list(params)\n",
    "        self.lr = learning_rate\n",
    "        self.momentum = momentum\n",
    "        self.velocity = [torch.zeros_like(p.data) for p in self.params if p is not None]\n",
    "        \n",
    "    def zero_grad(self):\n",
    "        for param in self.params:\n",
    "            if param.grad is not None:\n",
    "                param.grad.detach_()\n",
    "                param.grad.zero_()\n",
    "\n",
    "    def step(self):\n",
    "        for i, param in enumerate(self.params):\n",
    "            if param.grad is None:\n",
    "                continue\n",
    "            \n",
    "            # Compute the velocity update\n",
    "            self.velocity[i] = self.momentum * self.velocity[i] + self.lr * param.grad            \n",
    "    \n",
    "            # Update parameters\n",
    "            param.data -= self.velocity[i]\n"
   ]
  },
  {
   "cell_type": "markdown",
   "metadata": {},
   "source": [
    "## Training our Model with MyMomentumSGD\n",
    "\n",
    "Let's train our model with our new optimizer and compare the results with MySGD.  "
   ]
  },
  {
   "cell_type": "code",
   "execution_count": 69,
   "metadata": {},
   "outputs": [
    {
     "name": "stdout",
     "output_type": "stream",
     "text": [
      "Epoch 1/10, Training Loss: 0.3418, Validation Loss: 0.2183, Validation Accuracy: 0.9355\n",
      "Epoch 2/10, Training Loss: 0.1656, Validation Loss: 0.1511, Validation Accuracy: 0.9566\n",
      "Epoch 3/10, Training Loss: 0.1215, Validation Loss: 0.1252, Validation Accuracy: 0.9614\n",
      "Epoch 4/10, Training Loss: 0.0999, Validation Loss: 0.1301, Validation Accuracy: 0.9629\n",
      "Epoch 5/10, Training Loss: 0.0831, Validation Loss: 0.1273, Validation Accuracy: 0.9643\n",
      "Epoch 6/10, Training Loss: 0.0729, Validation Loss: 0.1165, Validation Accuracy: 0.9675\n",
      "Epoch 7/10, Training Loss: 0.0655, Validation Loss: 0.1071, Validation Accuracy: 0.9678\n",
      "Epoch 8/10, Training Loss: 0.0567, Validation Loss: 0.1055, Validation Accuracy: 0.9719\n",
      "Epoch 9/10, Training Loss: 0.0513, Validation Loss: 0.1026, Validation Accuracy: 0.9698\n",
      "Epoch 10/10, Training Loss: 0.0454, Validation Loss: 0.1092, Validation Accuracy: 0.9698\n"
     ]
    }
   ],
   "source": [
    "# Set hyperparameters\n",
    "learning_rate = 0.01\n",
    "num_epochs = 10\n",
    "\n",
    "# Initialize model and optimizer\n",
    "model_msgd = SimpleNN().to(device)\n",
    "optimizer_msgd = MyMomentumSGD(model_msgd.parameters(), learning_rate=learning_rate) # Here we use our own SGD with Momentum\n",
    "\n",
    "# Train model\n",
    "train_loss_msgd = []\n",
    "val_loss_msgd = []\n",
    "for epoch in range(num_epochs):\n",
    "    loss = train_model(model_msgd, train_loader, optimizer_msgd, criterion, device)\n",
    "    train_loss_msgd.append(loss)\n",
    "    \n",
    "    val_loss, val_accuracy = evaluate_model(model_msgd, val_loader, criterion, device)\n",
    "    val_loss_msgd.append(val_loss)\n",
    "    print(f\"Epoch {epoch + 1}/{num_epochs}, Training Loss: {loss:.4f}, Validation Loss: {val_loss:.4f}, Validation Accuracy: {val_accuracy:.4f}\")\n"
   ]
  },
  {
   "cell_type": "markdown",
   "metadata": {},
   "source": [
    "Great! Looks like the Momentum has a significant impact on our model's performance. We were able to improve the validation accuracy **by ~10%** by simply adding momentum to our SGD optimizer.\n",
    "\n",
    "**Avoiding Redundant Computations:**\n",
    "To spare you the effort of rerunning all experiments from scratch, we've provided the option to load pre-computed results below. Utilizing these saved metrics allows you to jump right into data analysis without any delay."
   ]
  },
  {
   "cell_type": "code",
   "execution_count": 70,
   "metadata": {},
   "outputs": [],
   "source": [
    "train_loss_msgd = [1.7359, 1.6258, 1.5641, 1.5390, 1.5283, 1.5205, 1.5144, 1.5092, 1.5052, 1.5021]\n",
    "val_loss_msgd = [1.6359, 1.6219, 1.5547, 1.5392, 1.5304, 1.5233, 1.5183, 1.5132, 1.5123, 1.5087]"
   ]
  },
  {
   "cell_type": "code",
   "execution_count": 71,
   "metadata": {},
   "outputs": [],
   "source": [
    "## Nesterov Momentum"
   ]
  },
  {
   "cell_type": "markdown",
   "metadata": {},
   "source": [
    "\n",
    "## Our 2nd Optimization Algorithm: AdaGrad\n",
    "\n",
    "AdaGrad, short for \"Adaptive Gradient Algorithm,\" is an optimization algorithm designed to improve the performance and training speed of machine learning algorithms. Unlike SGD, which uses a constant learning rate for all parameters, AdaGrad adapts the learning rates during training. This can be particularly useful when dealing with sparse data or features that appear infrequently.\n",
    "\n",
    "### How Does AdaGrad Work?\n",
    "\n",
    "The key idea behind AdaGrad is to adjust the learning rates based on the past gradients for each parameter individually. Specifically, it keeps track of the sum of squares of past gradients and adjusts the learning rate in a way that is inversely proportional to the square root of this sum.\n",
    "\n",
    "Mathematically, the AdaGrad update rule for each parameter $ \\theta $ can be represented as:\n",
    "\n",
    "$$\n",
    "\\begin{aligned}\n",
    "g_t &= \\nabla_{\\theta} L(\\theta_t) , \\\\\n",
    "G_t &= G_{t-1} + g_t \\odot g_t , \\\\\n",
    "\\theta_{t+1} &= \\theta_t - \\frac{\\eta}{\\sqrt{G_t + \\epsilon}} \\odot g_t\n",
    "\\end{aligned}\n",
    "$$\n",
    "\n",
    "Where:\n",
    "\n",
    "- $ g_t $ represents the gradient of the loss function at time step $ t $.\n",
    "- $ G_t $ is the diagonal matrix that stores the sum of squares of the past gradients.\n",
    "- $ \\odot $ represents element-wise multiplication.\n",
    "- $ \\epsilon $ is a smoothing term to prevent division by zero (usually set to a small value like $ 1 \\times 10^{-8} $).\n",
    "- $ \\eta $ is the global learning rate.\n",
    "\n",
    "### Why AdaGrad?\n",
    "\n",
    "- Adaptive Learning Rate: AdaGrad adapts the learning rate during training. This can be beneficial for loss functions that have different shapes along different dimensions.\n",
    "- Sparse Data: AdaGrad can perform well on problems with sparse features where the importance of each feature varies significantly. This is because rarely occurring features get a higher learning rate, thus AdaGrad can adapt quickly to more informative features.\n",
    "- Simple and Easy to Implement: Similar to SGD, AdaGrad is easy to implement and computationally efficient.\n",
    "\n",
    "However, it's worth noting that AdaGrad's aggressive decrease in the learning rate can be a double-edged sword. While it often performs well on convex problems, the continually decreasing learning rate can cause the algorithm to converge prematurely when optimizing non-convex functions, as often encountered in deep learning.\n",
    "\n",
    "Now, let's experiment with AdaGrad and compare it against our previous results with SGD!"
   ]
  },
  {
   "cell_type": "code",
   "execution_count": 42,
   "metadata": {},
   "outputs": [],
   "source": [
    "class MyAdaGrad:\n",
    "    def __init__(self, params, lr=0.01, epsilon=1e-8):\n",
    "        self.params = list(params)\n",
    "        self.lr = lr\n",
    "        self.epsilon = epsilon\n",
    "        self.G = {}  # To store sum of squares of gradients for each parameter\n",
    "\n",
    "    def zero_grad(self):\n",
    "        for p in self.params:\n",
    "            if p.grad is not None:\n",
    "                p.grad.detach_()\n",
    "                p.grad.zero_()\n",
    "\n",
    "    def step(self):\n",
    "        for p in self.params:\n",
    "            if p.grad is None:\n",
    "                continue\n",
    "            \n",
    "            if p not in self.G:\n",
    "                self.G[p] = torch.zeros_like(p.data)\n",
    "            \n",
    "            # Update sum of squares of gradients\n",
    "            self.G[p] += p.grad.data ** 2\n",
    "            \n",
    "            # Update model parameters\n",
    "            adjustment = self.lr / torch.sqrt(self.G[p] + self.epsilon)\n",
    "            p.data.add_(-adjustment * p.grad.data)\n"
   ]
  },
  {
   "cell_type": "code",
   "execution_count": 43,
   "metadata": {},
   "outputs": [
    {
     "name": "stdout",
     "output_type": "stream",
     "text": [
      "Epoch 1/10, Training Loss: 1.8393, Validation Loss: 1.7620, Validation Accuracy: 0.7366\n",
      "Epoch 2/10, Training Loss: 1.7357, Validation Loss: 1.7036, Validation Accuracy: 0.8104\n",
      "Epoch 3/10, Training Loss: 1.6753, Validation Loss: 1.6537, Validation Accuracy: 0.8620\n",
      "Epoch 4/10, Training Loss: 1.6325, Validation Loss: 1.6237, Validation Accuracy: 0.8865\n",
      "Epoch 5/10, Training Loss: 1.6147, Validation Loss: 1.6118, Validation Accuracy: 0.8895\n",
      "Epoch 6/10, Training Loss: 1.6054, Validation Loss: 1.6040, Validation Accuracy: 0.8939\n",
      "Epoch 7/10, Training Loss: 1.5991, Validation Loss: 1.5988, Validation Accuracy: 0.8961\n",
      "Epoch 8/10, Training Loss: 1.5944, Validation Loss: 1.5948, Validation Accuracy: 0.8974\n",
      "Epoch 9/10, Training Loss: 1.5906, Validation Loss: 1.5914, Validation Accuracy: 0.9002\n",
      "Epoch 10/10, Training Loss: 1.5876, Validation Loss: 1.5889, Validation Accuracy: 0.9001\n"
     ]
    }
   ],
   "source": [
    "# Set hyperparameters\n",
    "learning_rate = 0.001\n",
    "\n",
    "# Initialize model and optimizer\n",
    "model_adagrad = SimpleNN().to(device)\n",
    "# optimizer_adam = torch.optim.Adam(model_adam.parameters(), lr=learning_rate)\n",
    "optimizer_adagrad = MyAdaGrad(model_adagrad.parameters(), lr=learning_rate)\n",
    "# Train model\n",
    "train_loss_adagrad = []\n",
    "val_loss_adagrad = []\n",
    "for epoch in range(num_epochs):\n",
    "    loss = train_model(model_adagrad, train_loader, optimizer_adagrad, criterion, device)\n",
    "    train_loss_adagrad.append(loss)\n",
    "    \n",
    "    val_loss, val_accuracy = evaluate_model(model_adagrad, val_loader, criterion, device)\n",
    "    val_loss_adagrad.append(val_loss)\n",
    "    print(f\"Epoch {epoch + 1}/{num_epochs}, Training Loss: {loss:.4f}, Validation Loss: {val_loss:.4f}, Validation Accuracy: {val_accuracy:.4f}\")\n"
   ]
  },
  {
   "cell_type": "markdown",
   "metadata": {},
   "source": [
    "## Comparing Results\n",
    "\n",
    "Let's plot the training and validation losses for SGD and AdaGrad and compare them.\n"
   ]
  },
  {
   "cell_type": "code",
   "execution_count": 44,
   "metadata": {},
   "outputs": [
    {
     "data": {
      "image/png": "[encoded data removed]",
      "text/plain": [
       "<Figure size 864x432 with 2 Axes>"
      ]
     },
     "metadata": {
      "needs_background": "light"
     },
     "output_type": "display_data"
    }
   ],
   "source": [
    "# Plot the results\n",
    "plt.figure(figsize=(12, 6))\n",
    "\n",
    "plt.subplot(1, 2, 1)\n",
    "plt.plot(train_loss_sgd, label=\"MySGD\", color='blue')\n",
    "plt.plot(train_loss_adagrad, label=\"MyAdaGrad\", color='red')\n",
    "plt.title(\"Training Loss\")\n",
    "plt.xlabel(\"Epochs\")\n",
    "plt.ylabel(\"Loss\")\n",
    "plt.legend()\n",
    "\n",
    "plt.subplot(1, 2, 2)\n",
    "plt.plot(val_loss_sgd, label=\"MySGD\", color='blue')\n",
    "plt.plot(val_loss_adagrad, label=\"MyAdaGrad\", color='red')\n",
    "plt.title(\"Validation Loss\")\n",
    "plt.xlabel(\"Epochs\")\n",
    "plt.ylabel(\"Loss\")\n",
    "plt.legend()\n",
    "\n",
    "plt.tight_layout()\n",
    "plt.show()\n"
   ]
  },
  {
   "cell_type": "markdown",
   "metadata": {},
   "source": [
    "Great! We can see that AdaGrad has a lower validation loss than SGD. This means that for our specific problem AdaGrad is able to generalize better than SGD."
   ]
  },
  {
   "cell_type": "markdown",
   "metadata": {},
   "source": [
    "## Our 3rd Optimization Algorithm: Adam\n",
    "\n",
    "Adam, short for \"Adaptive Moment Estimation,\" combines ideas from both Momentum and AdaGrad. It computes adaptive learning rates for each parameter and also maintains an exponentially decaying average of past gradients, similar to momentum.\n",
    "\n",
    "Mathematically, the Adam update rule can be represented as:\n",
    "\n",
    "$$\n",
    "m_t = \\beta_1 \\cdot m_{t-1} + (1 - \\beta_1) \\cdot g_t \n",
    "$$\n",
    "$$\n",
    "v_t = \\beta_2 \\cdot v_{t-1} + (1 - \\beta_2) \\cdot g_t^2\n",
    "$$\n",
    "$$\n",
    "\\hat{m}_t = \\frac{m_t}{1 - \\beta_1^t}\n",
    "$$\n",
    "$$\n",
    "\\hat{v}_t = \\frac{v_t}{1 - \\beta_2^t}\n",
    "$$\n",
    "$$\n",
    "\\theta_{t+1} = \\theta_t - \\frac{\\eta}{\\sqrt{\\hat{v}_t} + \\epsilon} \\cdot \\hat{m}_t\n",
    "$$\n",
    "\n",
    "Where:\n",
    "\n",
    "- $g_t$ represents the gradient of the loss at time step $t$.\n",
    "- $ m_t $ and $v_t$ are estimates of the first moment (the mean) and the second moment (the uncentered variance) of the gradients respectively.\n",
    "- $\\beta_1$ and $\\beta_2$ are the forgetting factors for these moment estimates.\n",
    "- $\\hat{m}_t$ and $\\hat{v}_t$ are bias-corrected estimates of the first and second moments.\n",
    "- $\\epsilon$ is a smoothing term to prevent division by zero (usually set to a small value like $1 \\times 10^{-8}$).\n",
    "- $ \\eta$ is the learning rate."
   ]
  },
  {
   "cell_type": "code",
   "execution_count": 53,
   "metadata": {},
   "outputs": [],
   "source": [
    "class MyAdam:\n",
    "    def __init__(self, params, lr=0.001, betas=(0.9, 0.999), eps=1e-8):\n",
    "        self.params = list(params)\n",
    "        self.lr = lr\n",
    "        self.betas = betas\n",
    "        self.eps = eps\n",
    "        self.t = 0\n",
    "        self.m = [torch.zeros_like(p) for p in self.params]\n",
    "        self.v = [torch.zeros_like(p) for p in self.params]\n",
    "\n",
    "    def zero_grad(self):\n",
    "        for p in self.params:\n",
    "            if p.grad is not None:\n",
    "                p.grad.detach_()\n",
    "                p.grad.zero_()\n",
    "\n",
    "\n",
    "    def step(self):\n",
    "        self.t += 1\n",
    "        for p, m, v in zip(self.params, self.m, self.v):\n",
    "            if p.grad is None:\n",
    "                continue\n",
    "            grad = p.grad.data\n",
    "            m.mul_(self.betas[0]).add_(grad, alpha=1 - self.betas[0])\n",
    "            v.mul_(self.betas[1]).addcmul_(grad, grad, value=1 - self.betas[1])\n",
    "            m_hat = m / (1 - self.betas[0] ** self.t)\n",
    "            v_hat = v / (1 - self.betas[1] ** self.t)\n",
    "            p.data.addcdiv_(m_hat, (v_hat.sqrt() + self.eps), value=-self.lr)\n",
    "            \n",
    "class MyAdam:\n",
    "    def __init__(self, params, lr=0.001, beta1=0.9, beta2=0.999, epsilon=1e-8):\n",
    "        self.params = list(params)\n",
    "        self.lr = lr\n",
    "        self.beta1 = beta1\n",
    "        self.beta2 = beta2\n",
    "        self.epsilon = epsilon\n",
    "        self.m = {}  # Placeholder for the first moment vector\n",
    "        self.v = {}  # Placeholder for the second moment vector\n",
    "        self.t = 0   # Initialize timestep\n",
    "\n",
    "    def zero_grad(self):\n",
    "        for p in self.params:\n",
    "            if p.grad is not None:\n",
    "                p.grad.zero_()\n",
    "\n",
    "    def step(self):\n",
    "        self.t += 1  # Increment timestep\n",
    "        for p in self.params:\n",
    "            if p.grad is None:\n",
    "                continue\n",
    "            \n",
    "            # Initialize moment vectors if encountering this parameter for the first time\n",
    "            if p not in self.m:\n",
    "                self.m[p] = torch.zeros_like(p.data)\n",
    "            if p not in self.v:\n",
    "                self.v[p] = torch.zeros_like(p.data)\n",
    "\n",
    "            # Update biased first and second moment estimates\n",
    "            self.m[p] = self.beta1 * self.m[p] + (1 - self.beta1) * p.grad.data\n",
    "            self.v[p] = self.beta2 * self.v[p] + (1 - self.beta2) * p.grad.data ** 2\n",
    "            \n",
    "            # Compute bias-corrected first and second moment estimates\n",
    "            m_hat = self.m[p] / (1 - self.beta1 ** self.t)\n",
    "            v_hat = self.v[p] / (1 - self.beta2 ** self.t)\n",
    "            \n",
    "            # Update the parameter\n",
    "            p.data -= self.lr * m_hat / (torch.sqrt(v_hat) + self.epsilon)\n"
   ]
  },
  {
   "cell_type": "markdown",
   "metadata": {},
   "source": [
    "### Start Training with MyAdam"
   ]
  },
  {
   "cell_type": "code",
   "execution_count": 54,
   "metadata": {},
   "outputs": [
    {
     "name": "stdout",
     "output_type": "stream",
     "text": [
      "Epoch 1/10, Training Loss: 1.6081, Validation Loss: 1.5643, Validation Accuracy: 0.9033\n",
      "Epoch 2/10, Training Loss: 1.5459, Validation Loss: 1.5373, Validation Accuracy: 0.9303\n",
      "Epoch 3/10, Training Loss: 1.5300, Validation Loss: 1.5244, Validation Accuracy: 0.9391\n",
      "Epoch 4/10, Training Loss: 1.5190, Validation Loss: 1.5189, Validation Accuracy: 0.9444\n",
      "Epoch 5/10, Training Loss: 1.5124, Validation Loss: 1.5251, Validation Accuracy: 0.9379\n",
      "Epoch 6/10, Training Loss: 1.5071, Validation Loss: 1.5087, Validation Accuracy: 0.9534\n",
      "Epoch 7/10, Training Loss: 1.5026, Validation Loss: 1.5104, Validation Accuracy: 0.9520\n",
      "Epoch 8/10, Training Loss: 1.5001, Validation Loss: 1.5074, Validation Accuracy: 0.9544\n",
      "Epoch 9/10, Training Loss: 1.4981, Validation Loss: 1.5072, Validation Accuracy: 0.9550\n",
      "Epoch 10/10, Training Loss: 1.4954, Validation Loss: 1.5003, Validation Accuracy: 0.9614\n"
     ]
    }
   ],
   "source": [
    "# Set hyperparameters\n",
    "learning_rate = 0.001\n",
    "\n",
    "# Initialize model and optimizer\n",
    "model_adam = SimpleNN().to(device)\n",
    "# optimizer_adam = torch.optim.Adam(model_adam.parameters(), lr=learning_rate)\n",
    "optimizer_adam = MyAdam(model_adam.parameters(), lr=learning_rate)\n",
    "# Train model\n",
    "train_loss_adam = []\n",
    "val_loss_adam = []\n",
    "for epoch in range(num_epochs):\n",
    "    loss = train_model(model_adam, train_loader, optimizer_adam, criterion, device)\n",
    "    train_loss_adam.append(loss)\n",
    "    \n",
    "    val_loss, val_accuracy = evaluate_model(model_adam, val_loader, criterion, device)\n",
    "    val_loss_adam.append(val_loss)\n",
    "    print(f\"Epoch {epoch + 1}/{num_epochs}, Training Loss: {loss:.4f}, Validation Loss: {val_loss:.4f}, Validation Accuracy: {val_accuracy:.4f}\")\n"
   ]
  },
  {
   "cell_type": "code",
   "execution_count": 55,
   "metadata": {},
   "outputs": [
    {
     "data": {
      "image/png": "[encoded data removed]",
      "text/plain": [
       "<Figure size 864x432 with 2 Axes>"
      ]
     },
     "metadata": {
      "needs_background": "light"
     },
     "output_type": "display_data"
    }
   ],
   "source": [
    "# Plot the results\n",
    "plt.figure(figsize=(12, 6))\n",
    "\n",
    "plt.subplot(1, 2, 1)\n",
    "plt.plot(train_loss_sgd, label=\"MySGD\", color='blue')\n",
    "plt.plot(train_loss_adagrad, label=\"MyAdaGrad\", color='red')\n",
    "plt.plot(train_loss_adam, label=\"MyAdam\", color='green')\n",
    "plt.title(\"Training Loss\")\n",
    "plt.xlabel(\"Epochs\")\n",
    "plt.ylabel(\"Loss\")\n",
    "plt.legend()\n",
    "\n",
    "plt.subplot(1, 2, 2)\n",
    "plt.plot(val_loss_sgd, label=\"MySGD\", color='blue')\n",
    "plt.plot(val_loss_adagrad, label=\"MyAdaGrad\", color='red')\n",
    "plt.plot(val_loss_adam, label=\"MyAdam\", color='green')\n",
    "plt.title(\"Validation Loss\")\n",
    "plt.xlabel(\"Epochs\")\n",
    "plt.ylabel(\"Loss\")\n",
    "plt.legend()\n",
    "\n",
    "plt.tight_layout()\n",
    "plt.show()\n"
   ]
  },
  {
   "cell_type": "markdown",
   "metadata": {},
   "source": [
    "# Conclusion\n",
    "\n",
    "In this notebook, we learned about different optimization algorithms and their impact on training neural networks. We also implemented these algorithms from scratch and compared their performance on the MNIST dataset. \n",
    "\n",
    "# References\n",
    "\n",
    "- Overview: [An overview of gradient descent optimization algorithms](https://www.ruder.io/optimizing-gradient-descent/) by Sebastian Ruder ([arXiv version](https://arxiv.org/pdf/1609.04747.pdf))\n",
    "- AdaGrad: [Adaptive Subgradient Methods for Online Learning and Stochastic Optimization](https://www.jmlr.org/papers/volume12/duchi11a/duchi11a.pdf) by Duchi et al.\n",
    "- [Adam: A Method for Stochastic Optimization](https://arxiv.org/abs/1412.6980) by Kingma et al.\n",
    "- [CS231n: Optimization Algorithms](https://cs231n.github.io/optimization-1/) - Stanford Course\n",
    "- [CS231n: Neural Networks Part 2](https://cs231n.github.io/neural-networks-2/) - Stanford Course\n",
    "- [Deep Learning with Python](https://www.manning.com/books/deep-learning-with-python) by  François Chollet \n",
    "- [Deep Learning](https://www.deeplearningbook.org/) by Ian Goodfellow et al."
   ]
  },
  {
   "cell_type": "markdown",
   "metadata": {},
   "source": []
  }
 ],
 "metadata": {
  "kernelspec": {
   "display_name": "base",
   "language": "python",
   "name": "python3"
  },
  "language_info": {
   "codemirror_mode": {
    "name": "ipython",
    "version": 3
   },
   "file_extension": ".py",
   "mimetype": "text/x-python",
   "name": "python",
   "nbconvert_exporter": "python",
   "pygments_lexer": "ipython3",
   "version": "3.9.7"
  },
  "orig_nbformat": 4
 },
 "nbformat": 4,
 "nbformat_minor": 2
}
