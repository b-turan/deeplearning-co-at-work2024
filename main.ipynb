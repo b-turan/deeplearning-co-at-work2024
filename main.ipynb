{
 "cells": [
  {
   "cell_type": "markdown",
   "metadata": {},
   "source": [
    "# Hands-On Optimization in Deep Learning @ MATH+ Summer School\n",
    "Welcome to the Math+ summer school session on optimization in deep learning! In this notebook, we'll explore different optimization algorithms and their impact on training neural networks."
   ]
  },
  {
   "cell_type": "code",
   "execution_count": 3,
   "metadata": {},
   "outputs": [],
   "source": [
    "# Setup: Import necessary libraries\n",
    "\n",
    "import numpy as np\n",
    "import matplotlib.pyplot as plt\n",
    "import torch\n",
    "import torch.nn as nn\n",
    "import torch.nn.functional as F\n",
    "import torchvision.transforms as transforms\n",
    "from torchvision.datasets import MNIST\n",
    "from torch.utils.data import DataLoader, random_split\n"
   ]
  },
  {
   "cell_type": "markdown",
   "metadata": {},
   "source": [
    "## Data Preprocessing\n",
    "\n",
    "Before we train our model, let's load and preprocess the MNIST dataset.\n"
   ]
  },
  {
   "cell_type": "code",
   "execution_count": 4,
   "metadata": {},
   "outputs": [
    {
     "name": "stdout",
     "output_type": "stream",
     "text": [
      "Downloading http://yann.lecun.com/exdb/mnist/train-images-idx3-ubyte.gz\n",
      "Downloading http://yann.lecun.com/exdb/mnist/train-images-idx3-ubyte.gz to ./data/MNIST/raw/train-images-idx3-ubyte.gz\n"
     ]
    },
    {
     "name": "stderr",
     "output_type": "stream",
     "text": [
      "100%|██████████| 9912422/9912422 [00:00<00:00, 50808040.24it/s]\n"
     ]
    },
    {
     "name": "stdout",
     "output_type": "stream",
     "text": [
      "Extracting ./data/MNIST/raw/train-images-idx3-ubyte.gz to ./data/MNIST/raw\n",
      "\n",
      "Downloading http://yann.lecun.com/exdb/mnist/train-labels-idx1-ubyte.gz\n",
      "Downloading http://yann.lecun.com/exdb/mnist/train-labels-idx1-ubyte.gz to ./data/MNIST/raw/train-labels-idx1-ubyte.gz\n"
     ]
    },
    {
     "name": "stderr",
     "output_type": "stream",
     "text": [
      "100%|██████████| 28881/28881 [00:00<00:00, 21600516.02it/s]\n"
     ]
    },
    {
     "name": "stdout",
     "output_type": "stream",
     "text": [
      "Extracting ./data/MNIST/raw/train-labels-idx1-ubyte.gz to ./data/MNIST/raw\n",
      "\n",
      "Downloading http://yann.lecun.com/exdb/mnist/t10k-images-idx3-ubyte.gz\n",
      "Downloading http://yann.lecun.com/exdb/mnist/t10k-images-idx3-ubyte.gz to ./data/MNIST/raw/t10k-images-idx3-ubyte.gz\n"
     ]
    },
    {
     "name": "stderr",
     "output_type": "stream",
     "text": [
      "100%|██████████| 1648877/1648877 [00:00<00:00, 18321067.16it/s]\n"
     ]
    },
    {
     "name": "stdout",
     "output_type": "stream",
     "text": [
      "Extracting ./data/MNIST/raw/t10k-images-idx3-ubyte.gz to ./data/MNIST/raw\n",
      "\n",
      "Downloading http://yann.lecun.com/exdb/mnist/t10k-labels-idx1-ubyte.gz\n",
      "Downloading http://yann.lecun.com/exdb/mnist/t10k-labels-idx1-ubyte.gz to ./data/MNIST/raw/t10k-labels-idx1-ubyte.gz\n"
     ]
    },
    {
     "name": "stderr",
     "output_type": "stream",
     "text": [
      "100%|██████████| 4542/4542 [00:00<00:00, 6745937.95it/s]\n"
     ]
    },
    {
     "name": "stdout",
     "output_type": "stream",
     "text": [
      "Extracting ./data/MNIST/raw/t10k-labels-idx1-ubyte.gz to ./data/MNIST/raw\n",
      "\n",
      "Training Samples: 50000\n",
      "Validation Samples: 10000\n",
      "Testing Samples: 10000\n"
     ]
    }
   ],
   "source": [
    "# Set device to GPU if available\n",
    "device = torch.device(\"cuda:0\" if torch.cuda.is_available() else \"cpu\")\n",
    "\n",
    "# Transform data to tensors and normalize\n",
    "transform = transforms.Compose([\n",
    "    transforms.ToTensor(),\n",
    "    transforms.Normalize((0.5,), (0.5,))\n",
    "])\n",
    "\n",
    "# Load the MNIST dataset\n",
    "dataset = MNIST(root='./data', download=True, transform=transform)\n",
    "\n",
    "# Split the dataset into training, validation, and test sets\n",
    "train_set, val_set = random_split(dataset, [50000, 10000])\n",
    "test_set = MNIST(root='./data', train=False, download=True, transform=transform)\n",
    "\n",
    "# Create data loaders\n",
    "train_loader = DataLoader(train_set, batch_size=32, shuffle=True)\n",
    "val_loader = DataLoader(val_set, batch_size=32, shuffle=False)\n",
    "test_loader = DataLoader(test_set, batch_size=32, shuffle=False)\n",
    "\n",
    "print(f\"Training Samples: {len(train_set)}\")\n",
    "print(f\"Validation Samples: {len(val_set)}\")\n",
    "print(f\"Testing Samples: {len(test_set)}\")\n"
   ]
  },
  {
   "cell_type": "markdown",
   "metadata": {},
   "source": [
    "## Neural Network Model\n",
    "\n",
    "Now, let's define a simple feed-forward neural network to serve as our baseline model. \n"
   ]
  },
  {
   "cell_type": "code",
   "execution_count": 5,
   "metadata": {},
   "outputs": [
    {
     "name": "stdout",
     "output_type": "stream",
     "text": [
      "SimpleNN(\n",
      "  (flatten): Flatten(start_dim=1, end_dim=-1)\n",
      "  (fc1): Linear(in_features=784, out_features=128, bias=True)\n",
      "  (fc2): Linear(in_features=128, out_features=10, bias=True)\n",
      ")\n"
     ]
    }
   ],
   "source": [
    "class SimpleNN(nn.Module):\n",
    "    def __init__(self):\n",
    "        super(SimpleNN, self).__init__()\n",
    "        self.flatten = nn.Flatten()\n",
    "        self.fc1 = nn.Linear(28*28, 128)\n",
    "        self.fc2 = nn.Linear(128, 10)\n",
    "        \n",
    "    def forward(self, x):\n",
    "        x = self.flatten(x)\n",
    "        x = F.relu(self.fc1(x))\n",
    "        x = self.fc2(x)\n",
    "        return F.softmax(x, dim=1)\n",
    "\n",
    "# Create an instance of the model and move it to the device\n",
    "model = SimpleNN().to(device)\n",
    "print(model)\n"
   ]
  },
  {
   "cell_type": "markdown",
   "metadata": {},
   "source": [
    "## Training the Model\n",
    "\n",
    "Let's first define our training and evaluation functions.\n"
   ]
  },
  {
   "cell_type": "code",
   "execution_count": 6,
   "metadata": {},
   "outputs": [],
   "source": [
    "# Define the loss and metrics\n",
    "criterion = nn.CrossEntropyLoss()\n",
    "\n",
    "# Define the training function\n",
    "def train_model(model, dataloader, optimizer, criterion, device):\n",
    "    model.train()\n",
    "    running_loss = 0.0\n",
    "    for images, labels in dataloader:\n",
    "        images, labels = images.to(device), labels.to(device)\n",
    "\n",
    "        optimizer.zero_grad()\n",
    "        outputs = model(images)\n",
    "        loss = criterion(outputs, labels)\n",
    "        loss.backward()\n",
    "        optimizer.step()\n",
    "        running_loss += loss.item() * images.size(0)\n",
    "    return running_loss / len(dataloader.dataset)\n",
    "\n",
    "# Define the evaluation function\n",
    "def evaluate_model(model, dataloader, criterion, device):\n",
    "    model.eval()\n",
    "    running_loss = 0.0\n",
    "    correct_predictions = 0\n",
    "    with torch.no_grad():\n",
    "        for images, labels in dataloader:\n",
    "            images, labels = images.to(device), labels.to(device)\n",
    "            outputs = model(images)\n",
    "            _, predicted = torch.max(outputs, 1)\n",
    "            correct_predictions += (predicted == labels).sum().item()\n",
    "            loss = criterion(outputs, labels)\n",
    "            running_loss += loss.item() * images.size(0)\n",
    "    accuracy = correct_predictions / len(dataloader.dataset)\n",
    "    return running_loss / len(dataloader.dataset), accuracy\n"
   ]
  },
  {
   "cell_type": "markdown",
   "metadata": {},
   "source": [
    "## Training with SGD\n"
   ]
  },
  {
   "cell_type": "code",
   "execution_count": 7,
   "metadata": {},
   "outputs": [
    {
     "name": "stdout",
     "output_type": "stream",
     "text": [
      "Epoch 1/10, Training Loss: 2.0536, Validation Loss: 1.8737, Validation Accuracy: 0.6361\n",
      "Epoch 2/10, Training Loss: 1.8075, Validation Loss: 1.7629, Validation Accuracy: 0.7265\n",
      "Epoch 3/10, Training Loss: 1.7439, Validation Loss: 1.7410, Validation Accuracy: 0.7366\n",
      "Epoch 4/10, Training Loss: 1.7288, Validation Loss: 1.7301, Validation Accuracy: 0.7424\n",
      "Epoch 5/10, Training Loss: 1.7019, Validation Loss: 1.6692, Validation Accuracy: 0.8178\n",
      "Epoch 6/10, Training Loss: 1.6521, Validation Loss: 1.6496, Validation Accuracy: 0.8288\n",
      "Epoch 7/10, Training Loss: 1.6398, Validation Loss: 1.6427, Validation Accuracy: 0.8316\n",
      "Epoch 8/10, Training Loss: 1.6337, Validation Loss: 1.6369, Validation Accuracy: 0.8365\n",
      "Epoch 9/10, Training Loss: 1.6298, Validation Loss: 1.6343, Validation Accuracy: 0.8379\n",
      "Epoch 10/10, Training Loss: 1.6266, Validation Loss: 1.6305, Validation Accuracy: 0.8402\n"
     ]
    }
   ],
   "source": [
    "# Set hyperparameters\n",
    "learning_rate = 0.01\n",
    "num_epochs = 10\n",
    "\n",
    "# Initialize model and optimizer\n",
    "model_sgd = SimpleNN().to(device)\n",
    "optimizer_sgd = torch.optim.SGD(model_sgd.parameters(), lr=learning_rate)\n",
    "\n",
    "# Train model\n",
    "train_loss_sgd = []\n",
    "val_loss_sgd = []\n",
    "for epoch in range(num_epochs):\n",
    "    loss = train_model(model_sgd, train_loader, optimizer_sgd, criterion, device)\n",
    "    train_loss_sgd.append(loss)\n",
    "    \n",
    "    val_loss, val_accuracy = evaluate_model(model_sgd, val_loader, criterion, device)\n",
    "    val_loss_sgd.append(val_loss)\n",
    "    print(f\"Epoch {epoch + 1}/{num_epochs}, Training Loss: {loss:.4f}, Validation Loss: {val_loss:.4f}, Validation Accuracy: {val_accuracy:.4f}\")\n"
   ]
  },
  {
   "cell_type": "markdown",
   "metadata": {},
   "source": [
    "## Training with Adam\n"
   ]
  },
  {
   "cell_type": "code",
   "execution_count": 9,
   "metadata": {},
   "outputs": [
    {
     "name": "stdout",
     "output_type": "stream",
     "text": [
      "Epoch 1/10, Training Loss: 1.6159, Validation Loss: 1.5466, Validation Accuracy: 0.9198\n",
      "Epoch 2/10, Training Loss: 1.5450, Validation Loss: 1.5381, Validation Accuracy: 0.9267\n",
      "Epoch 3/10, Training Loss: 1.5281, Validation Loss: 1.5226, Validation Accuracy: 0.9397\n",
      "Epoch 4/10, Training Loss: 1.5177, Validation Loss: 1.5102, Validation Accuracy: 0.9527\n",
      "Epoch 5/10, Training Loss: 1.5097, Validation Loss: 1.5141, Validation Accuracy: 0.9481\n",
      "Epoch 6/10, Training Loss: 1.5056, Validation Loss: 1.5034, Validation Accuracy: 0.9599\n",
      "Epoch 7/10, Training Loss: 1.5025, Validation Loss: 1.5111, Validation Accuracy: 0.9521\n",
      "Epoch 8/10, Training Loss: 1.4997, Validation Loss: 1.5040, Validation Accuracy: 0.9575\n",
      "Epoch 9/10, Training Loss: 1.4961, Validation Loss: 1.5009, Validation Accuracy: 0.9615\n",
      "Epoch 10/10, Training Loss: 1.4944, Validation Loss: 1.4984, Validation Accuracy: 0.9638\n"
     ]
    }
   ],
   "source": [
    "# Set hyperparameters\n",
    "learning_rate = 0.001\n",
    "\n",
    "# Initialize model and optimizer\n",
    "model_adam = SimpleNN().to(device)\n",
    "optimizer_adam = torch.optim.Adam(model_adam.parameters(), lr=learning_rate)\n",
    "\n",
    "# Train model\n",
    "train_loss_adam = []\n",
    "val_loss_adam = []\n",
    "for epoch in range(num_epochs):\n",
    "    loss = train_model(model_adam, train_loader, optimizer_adam, criterion, device)\n",
    "    train_loss_adam.append(loss)\n",
    "    \n",
    "    val_loss, val_accuracy = evaluate_model(model_adam, val_loader, criterion, device)\n",
    "    val_loss_adam.append(val_loss)\n",
    "    print(f\"Epoch {epoch + 1}/{num_epochs}, Training Loss: {loss:.4f}, Validation Loss: {val_loss:.4f}, Validation Accuracy: {val_accuracy:.4f}\")\n"
   ]
  },
  {
   "cell_type": "markdown",
   "metadata": {},
   "source": [
    "## Comparing Results\n"
   ]
  },
  {
   "cell_type": "code",
   "execution_count": 11,
   "metadata": {},
   "outputs": [
    {
     "data": {
      "image/png": "[encoded data removed]",
      "text/plain": [
       "<Figure size 864x432 with 2 Axes>"
      ]
     },
     "metadata": {
      "needs_background": "light"
     },
     "output_type": "display_data"
    }
   ],
   "source": [
    "# Plot the results\n",
    "plt.figure(figsize=(12, 6))\n",
    "\n",
    "plt.subplot(1, 2, 1)\n",
    "plt.plot(train_loss_sgd, label=\"SGD\", color='blue')\n",
    "plt.plot(train_loss_adam, label=\"Adam\", color='red')\n",
    "plt.title(\"Training Loss\")\n",
    "plt.xlabel(\"Epochs\")\n",
    "plt.ylabel(\"Loss\")\n",
    "plt.legend()\n",
    "\n",
    "plt.subplot(1, 2, 2)\n",
    "plt.plot(val_loss_sgd, label=\"SGD\", color='blue')\n",
    "plt.plot(val_loss_adam, label=\"Adam\", color='red')\n",
    "plt.title(\"Validation Loss\")\n",
    "plt.xlabel(\"Epochs\")\n",
    "plt.ylabel(\"Loss\")\n",
    "plt.legend()\n",
    "\n",
    "plt.tight_layout()\n",
    "plt.show()\n"
   ]
  },
  {
   "cell_type": "code",
   "execution_count": null,
   "metadata": {},
   "outputs": [],
   "source": []
  }
 ],
 "metadata": {
  "kernelspec": {
   "display_name": "base",
   "language": "python",
   "name": "python3"
  },
  "language_info": {
   "codemirror_mode": {
    "name": "ipython",
    "version": 3
   },
   "file_extension": ".py",
   "mimetype": "text/x-python",
   "name": "python",
   "nbconvert_exporter": "python",
   "pygments_lexer": "ipython3",
   "version": "3.9.7"
  },
  "orig_nbformat": 4
 },
 "nbformat": 4,
 "nbformat_minor": 2
}
